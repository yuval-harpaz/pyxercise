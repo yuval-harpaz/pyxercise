{
 "cells": [
  {
   "cell_type": "markdown",
   "metadata": {},
   "source": [
    "## Plot three images from the web\n",
    "image_adress is a list containing addresses for three images. Here we use module **'matplotlib'** to show images. Write a loop to show all three (the code only shows one). "
   ]
  },
  {
   "cell_type": "code",
   "execution_count": null,
   "metadata": {},
   "outputs": [],
   "source": [
    "from matplotlib import pyplot as plt\n",
    "import urllib\n",
    "image_address = ['http://www3.pictures.zimbio.com/mp/H6QFSv9ERZwl.jpg',\n",
    "                 'https://images-na.ssl-images-amazon.com/images/I/811eKOPdm6L._RI_.jpg',\n",
    "                'https://cdn.vox-cdn.com/thumbor/wnfK7HybprDP8_VZtwpiNYRByKE=/0x0:638x404/1200x800/filters:focal(268x151:370x253)/cdn.vox-cdn.com/uploads/chorus_image/image/62424386/Spongebob_Squarepants.0.png']\n",
    "#a = plt.imread(image_address[1],0)\n",
    "f = urllib.request.urlopen(image_address[0])\n",
    "a = plt.imread(f,0)\n",
    "plt.imshow(a)\n",
    "plt.show()"
   ]
  },
  {
   "cell_type": "markdown",
   "metadata": {},
   "source": [
    "## what is a?\n",
    "We read the image into variable a, but what sort of variable is it?\n",
    "use the function 'type' to find out."
   ]
  },
  {
   "cell_type": "code",
   "execution_count": null,
   "metadata": {},
   "outputs": [],
   "source": [
    "type a"
   ]
  },
  {
   "cell_type": "markdown",
   "metadata": {},
   "source": [
    "## shapes of numpy ndarrays\n",
    "numpy is the most important tool in python to deal with numbers. ndarray can have rows and columns. Lists cannot, they are just long rows. See how many rows and columns a has using a.shape"
   ]
  },
  {
   "cell_type": "code",
   "execution_count": null,
   "metadata": {},
   "outputs": [],
   "source": [
    "a.shape"
   ]
  },
  {
   "cell_type": "markdown",
   "metadata": {},
   "source": [
    "## a's third dimension\n",
    "As you've noticed, a has rows, columns, and then 3 layers on the third dimensions. For images these signify RGB, the Red, Green and Blue layers. Lets plot them separately by using zeroing out the other two colors."
   ]
  },
  {
   "cell_type": "code",
   "execution_count": null,
   "metadata": {},
   "outputs": [],
   "source": [
    "f = urllib.request.urlopen(image_address[1])\n",
    "a = plt.imread(f,0)\n",
    "for layer in [0,1,2]:\n",
    "    b = a.copy()\n",
    "    b[:,:,:] = 0;\n",
    "    b[:,:,layer] = a[:,:,layer]\n",
    "    plt.imshow(b)\n",
    "    plt.show()\n",
    "    "
   ]
  },
  {
   "cell_type": "markdown",
   "metadata": {},
   "source": [
    "## Gray images have identical RGB layers\n",
    "Here we create an average layer and replace all 3 layers with it. Try to make Rory's face colorful. Start by uncommenting the commented line"
   ]
  },
  {
   "cell_type": "code",
   "execution_count": null,
   "metadata": {},
   "outputs": [],
   "source": [
    "import numpy\n",
    "b = a.copy()\n",
    "meanLayer = numpy.mean(b, axis=2)\n",
    "for layer in [0,1,2]:\n",
    "    b[:,:,layer] = meanLayer\n",
    "# b[0:480,0:1259,:] = a[0:480,0:1259,:]\n",
    "plt.imshow(b)\n",
    "plt.show()"
   ]
  },
  {
   "cell_type": "markdown",
   "metadata": {},
   "source": [
    "## Crop the image to show bottom right quarter only"
   ]
  },
  {
   "cell_type": "code",
   "execution_count": null,
   "metadata": {},
   "outputs": [],
   "source": [
    "b = a.copy()\n",
    "b = b[0:480,1000:,:]\n",
    "plt.imshow(b)\n",
    "plt.show()"
   ]
  }
 ],
 "metadata": {
  "kernelspec": {
   "display_name": "Python 3",
   "language": "python",
   "name": "python3"
  },
  "language_info": {
   "codemirror_mode": {
    "name": "ipython",
    "version": 3
   },
   "file_extension": ".py",
   "mimetype": "text/x-python",
   "name": "python",
   "nbconvert_exporter": "python",
   "pygments_lexer": "ipython3",
   "version": "3.7.3"
  }
 },
 "nbformat": 4,
 "nbformat_minor": 2
}
