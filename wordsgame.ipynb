{
 "cells": [
  {
   "cell_type": "markdown",
   "metadata": {},
   "source": [
    "# Create a game where users have to guess words by their definitions\n",
    "## Get a dictionary of english words from the web\n",
    "See the definition to poison"
   ]
  },
  {
   "cell_type": "code",
   "execution_count": null,
   "metadata": {},
   "outputs": [],
   "source": [
    "import json\n",
    "import urllib\n",
    "import random\n",
    "url = \"https://raw.githubusercontent.com/vasu2411/Interactive_Dictionary/master/data.json\"\n",
    "response = urllib.request.urlopen(url)\n",
    "diction = json.loads(response.read())\n",
    "print(diction['poison'][0])"
   ]
  },
  {
   "cell_type": "markdown",
   "metadata": {},
   "source": [
    "## Variable \"diction\" is a dictionary\n",
    "Dictionaries in python have keys and values. data is not only a python dictionary, it really is a dictionary. The keys are the words, and their values are the definitions"
   ]
  },
  {
   "cell_type": "code",
   "execution_count": null,
   "metadata": {},
   "outputs": [],
   "source": [
    "diction.keys()\n"
   ]
  },
  {
   "cell_type": "code",
   "execution_count": null,
   "metadata": {},
   "outputs": [],
   "source": [
    "print(diction['Daga'][0])"
   ]
  },
  {
   "cell_type": "markdown",
   "metadata": {},
   "source": [
    "## Now lets read a list of frequent words\n",
    "you cannot expect people to now \"Daga\". We also want to ignore too short words. We create an empty list called 'txt', and we add to it words one at a time, if they are long enough."
   ]
  },
  {
   "cell_type": "code",
   "execution_count": null,
   "metadata": {},
   "outputs": [],
   "source": [
    "url = 'https://raw.githubusercontent.com/first20hours/google-10000-english/master/google-10000-english-usa-no-swears.txt'\n",
    "response = urllib.request.urlopen(url)\n",
    "txt = []\n",
    "for line in response:\n",
    "    word = line.decode()[0:-1]\n",
    "    if len(word) > 3 and word in diction.keys():\n",
    "        txt.append(word)\n",
    "print('we have '+str(len(txt))+' words')"
   ]
  },
  {
   "cell_type": "markdown",
   "metadata": {},
   "source": [
    "## Now create the game\n",
    "In the example below we choose 3 random words, ask the user to spell them and give them a grade. First run it to get the feel, the do it right: show the definition of the words and give a true grade."
   ]
  },
  {
   "cell_type": "code",
   "execution_count": null,
   "metadata": {},
   "outputs": [],
   "source": [
    "chosen = random.sample(range(len(txt)), 3)\n",
    "correct = 0\n",
    "for idx in chosen:\n",
    "    answer = input('spell '+txt[idx]+': ')\n",
    "    if answer == 'brr':\n",
    "        print('Correct!')\n",
    "        correct += 1\n",
    "    else:\n",
    "        print('No smartipants, it is spelled BRR')\n",
    "print ('You got '+str(int(100*(correct/len(chosen)))))\n"
   ]
  }
 ],
 "metadata": {
  "kernelspec": {
   "display_name": "Python 3",
   "language": "python",
   "name": "python3"
  },
  "language_info": {
   "codemirror_mode": {
    "name": "ipython",
    "version": 3
   },
   "file_extension": ".py",
   "mimetype": "text/x-python",
   "name": "python",
   "nbconvert_exporter": "python",
   "pygments_lexer": "ipython3",
   "version": "3.7.3"
  }
 },
 "nbformat": 4,
 "nbformat_minor": 2
}
